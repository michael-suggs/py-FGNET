{
 "cells": [
  {
   "cell_type": "code",
   "execution_count": 1,
   "source": [
    "import pandas as pd\n",
    "import numpy as np\n",
    "import matplotlib.pyplot as plt\n",
    "import statsmodels.api as sm\n",
    "from sklearn.model_selection import train_test_split\n",
    "from sklearn.linear_model import LinearRegression\n",
    "from sklearn.linear_model import LogisticRegression\n",
    "from sklearn.linear_model import Ridge\n",
    "from sklearn.discriminant_analysis import LinearDiscriminantAnalysis\n",
    "from sklearn.datasets import make_hastie_10_2\n",
    "from sklearn.ensemble import GradientBoostingClassifier\n",
    "from sklearn.svm import SVC\n",
    "from sklearn.ensemble import RandomForestClassifier\n",
    "from sklearn.datasets import make_classification\n",
    "\n",
    "faces = pd.read_csv('data/FGNet-LOPO.csv')\n"
   ],
   "outputs": [],
   "metadata": {}
  },
  {
   "cell_type": "code",
   "execution_count": 2,
   "source": [
    "faces['ageclass'] = faces.age.apply(\n",
    "    lambda r: 0 if r < 17 else 1\n",
    ").astype(int)\n",
    "faces.head()"
   ],
   "outputs": [
    {
     "output_type": "execute_result",
     "data": {
      "text/plain": [
       "         b1        b2        b3        b4        b5        b6        b7  \\\n",
       "0  0.585770 -0.075982 -0.276594  0.076490  0.189404 -0.152451  0.003264   \n",
       "1  0.117512 -0.344377  0.413923 -0.088210  0.152117 -0.020675 -0.085257   \n",
       "2  0.248636 -0.209122  0.516829 -0.124100 -0.002087  0.165375 -0.033023   \n",
       "3  0.136742 -0.095098  0.428192 -0.125278 -0.117103  0.080187  0.109120   \n",
       "4 -0.371003 -0.164112  0.431468 -0.163736 -0.217533  0.083152 -0.053181   \n",
       "\n",
       "         b8        b9       b10  ...      b104      b105      b106      b107  \\\n",
       "0 -0.366677  0.148862 -0.078316  ...  0.012785  0.014379 -0.032976 -0.005910   \n",
       "1 -0.122578  0.085524 -0.035403  ...  0.006724  0.014217  0.001321 -0.005616   \n",
       "2  0.035212  0.156937 -0.028065  ...  0.023377  0.028616 -0.009582 -0.020722   \n",
       "3 -0.068001  0.185257 -0.001298  ...  0.021750  0.006348 -0.006021 -0.005336   \n",
       "4 -0.169808  0.178207 -0.000211  ...  0.008738  0.002282 -0.021130 -0.009988   \n",
       "\n",
       "       b108      b109  age  ID  Gender_0M_1F  ageclass  \n",
       "0  0.015997 -0.002833    5   1             0         0  \n",
       "1 -0.018197 -0.000073    8   1             0         0  \n",
       "2  0.003676 -0.015716   10   1             0         0  \n",
       "3  0.002317 -0.014843   14   1             0         0  \n",
       "4 -0.016178 -0.003646   16   1             0         0  \n",
       "\n",
       "[5 rows x 113 columns]"
      ],
      "text/html": [
       "<div>\n",
       "<style scoped>\n",
       "    .dataframe tbody tr th:only-of-type {\n",
       "        vertical-align: middle;\n",
       "    }\n",
       "\n",
       "    .dataframe tbody tr th {\n",
       "        vertical-align: top;\n",
       "    }\n",
       "\n",
       "    .dataframe thead th {\n",
       "        text-align: right;\n",
       "    }\n",
       "</style>\n",
       "<table border=\"1\" class=\"dataframe\">\n",
       "  <thead>\n",
       "    <tr style=\"text-align: right;\">\n",
       "      <th></th>\n",
       "      <th>b1</th>\n",
       "      <th>b2</th>\n",
       "      <th>b3</th>\n",
       "      <th>b4</th>\n",
       "      <th>b5</th>\n",
       "      <th>b6</th>\n",
       "      <th>b7</th>\n",
       "      <th>b8</th>\n",
       "      <th>b9</th>\n",
       "      <th>b10</th>\n",
       "      <th>...</th>\n",
       "      <th>b104</th>\n",
       "      <th>b105</th>\n",
       "      <th>b106</th>\n",
       "      <th>b107</th>\n",
       "      <th>b108</th>\n",
       "      <th>b109</th>\n",
       "      <th>age</th>\n",
       "      <th>ID</th>\n",
       "      <th>Gender_0M_1F</th>\n",
       "      <th>ageclass</th>\n",
       "    </tr>\n",
       "  </thead>\n",
       "  <tbody>\n",
       "    <tr>\n",
       "      <th>0</th>\n",
       "      <td>0.585770</td>\n",
       "      <td>-0.075982</td>\n",
       "      <td>-0.276594</td>\n",
       "      <td>0.076490</td>\n",
       "      <td>0.189404</td>\n",
       "      <td>-0.152451</td>\n",
       "      <td>0.003264</td>\n",
       "      <td>-0.366677</td>\n",
       "      <td>0.148862</td>\n",
       "      <td>-0.078316</td>\n",
       "      <td>...</td>\n",
       "      <td>0.012785</td>\n",
       "      <td>0.014379</td>\n",
       "      <td>-0.032976</td>\n",
       "      <td>-0.005910</td>\n",
       "      <td>0.015997</td>\n",
       "      <td>-0.002833</td>\n",
       "      <td>5</td>\n",
       "      <td>1</td>\n",
       "      <td>0</td>\n",
       "      <td>0</td>\n",
       "    </tr>\n",
       "    <tr>\n",
       "      <th>1</th>\n",
       "      <td>0.117512</td>\n",
       "      <td>-0.344377</td>\n",
       "      <td>0.413923</td>\n",
       "      <td>-0.088210</td>\n",
       "      <td>0.152117</td>\n",
       "      <td>-0.020675</td>\n",
       "      <td>-0.085257</td>\n",
       "      <td>-0.122578</td>\n",
       "      <td>0.085524</td>\n",
       "      <td>-0.035403</td>\n",
       "      <td>...</td>\n",
       "      <td>0.006724</td>\n",
       "      <td>0.014217</td>\n",
       "      <td>0.001321</td>\n",
       "      <td>-0.005616</td>\n",
       "      <td>-0.018197</td>\n",
       "      <td>-0.000073</td>\n",
       "      <td>8</td>\n",
       "      <td>1</td>\n",
       "      <td>0</td>\n",
       "      <td>0</td>\n",
       "    </tr>\n",
       "    <tr>\n",
       "      <th>2</th>\n",
       "      <td>0.248636</td>\n",
       "      <td>-0.209122</td>\n",
       "      <td>0.516829</td>\n",
       "      <td>-0.124100</td>\n",
       "      <td>-0.002087</td>\n",
       "      <td>0.165375</td>\n",
       "      <td>-0.033023</td>\n",
       "      <td>0.035212</td>\n",
       "      <td>0.156937</td>\n",
       "      <td>-0.028065</td>\n",
       "      <td>...</td>\n",
       "      <td>0.023377</td>\n",
       "      <td>0.028616</td>\n",
       "      <td>-0.009582</td>\n",
       "      <td>-0.020722</td>\n",
       "      <td>0.003676</td>\n",
       "      <td>-0.015716</td>\n",
       "      <td>10</td>\n",
       "      <td>1</td>\n",
       "      <td>0</td>\n",
       "      <td>0</td>\n",
       "    </tr>\n",
       "    <tr>\n",
       "      <th>3</th>\n",
       "      <td>0.136742</td>\n",
       "      <td>-0.095098</td>\n",
       "      <td>0.428192</td>\n",
       "      <td>-0.125278</td>\n",
       "      <td>-0.117103</td>\n",
       "      <td>0.080187</td>\n",
       "      <td>0.109120</td>\n",
       "      <td>-0.068001</td>\n",
       "      <td>0.185257</td>\n",
       "      <td>-0.001298</td>\n",
       "      <td>...</td>\n",
       "      <td>0.021750</td>\n",
       "      <td>0.006348</td>\n",
       "      <td>-0.006021</td>\n",
       "      <td>-0.005336</td>\n",
       "      <td>0.002317</td>\n",
       "      <td>-0.014843</td>\n",
       "      <td>14</td>\n",
       "      <td>1</td>\n",
       "      <td>0</td>\n",
       "      <td>0</td>\n",
       "    </tr>\n",
       "    <tr>\n",
       "      <th>4</th>\n",
       "      <td>-0.371003</td>\n",
       "      <td>-0.164112</td>\n",
       "      <td>0.431468</td>\n",
       "      <td>-0.163736</td>\n",
       "      <td>-0.217533</td>\n",
       "      <td>0.083152</td>\n",
       "      <td>-0.053181</td>\n",
       "      <td>-0.169808</td>\n",
       "      <td>0.178207</td>\n",
       "      <td>-0.000211</td>\n",
       "      <td>...</td>\n",
       "      <td>0.008738</td>\n",
       "      <td>0.002282</td>\n",
       "      <td>-0.021130</td>\n",
       "      <td>-0.009988</td>\n",
       "      <td>-0.016178</td>\n",
       "      <td>-0.003646</td>\n",
       "      <td>16</td>\n",
       "      <td>1</td>\n",
       "      <td>0</td>\n",
       "      <td>0</td>\n",
       "    </tr>\n",
       "  </tbody>\n",
       "</table>\n",
       "<p>5 rows × 113 columns</p>\n",
       "</div>"
      ]
     },
     "metadata": {},
     "execution_count": 2
    }
   ],
   "metadata": {}
  },
  {
   "cell_type": "code",
   "execution_count": 3,
   "source": [
    "x = faces.drop([\"age\", \"ID\", \"Gender_0M_1F\"], axis = 1)\n",
    "y = faces[[\"age\", \"ID\", \"Gender_0M_1F\", \"ageclass\"]]\n",
    "y_young = y[y.ageclass == 0]\n",
    "y_old = y[y.ageclass == 1]\n",
    "x_young = x[x.ageclass == 0].drop([\"ageclass\"], axis = 1)\n",
    "x_old = x[x.ageclass == 1].drop([\"ageclass\"], axis = 1)\n",
    "x = x.drop([\"ageclass\"], axis = 1)\n",
    "x_young_train, x_young_test, y_young_train, y_young_test = train_test_split(x_young, y_young, test_size = .2)\n",
    "x_old_train, x_old_test, y_old_train, y_old_test = train_test_split(x_old, y_old, test_size = .2)\n",
    "x_train, x_test, y_train, y_test = train_test_split(x, y, test_size = .2)\n"
   ],
   "outputs": [],
   "metadata": {}
  },
  {
   "cell_type": "code",
   "execution_count": 185,
   "source": [
    "lis = []\n",
    "\n",
    "for x in range(1):\n",
    "    x = faces.drop([\"age\", \"ID\", \"Gender_0M_1F\"], axis = 1)\n",
    "    y = faces[[\"age\", \"ID\", \"Gender_0M_1F\", \"ageclass\"]]\n",
    "    y_young = y[y.ageclass == 0]\n",
    "    y_old = y[y.ageclass == 1]\n",
    "    x_young = x[x.ageclass == 0].drop([\"ageclass\"], axis = 1)\n",
    "    x_old = x[x.ageclass == 1].drop([\"ageclass\"], axis = 1)\n",
    "    x = x.drop([\"ageclass\"], axis = 1)\n",
    "    x_young_train, x_young_test, y_young_train, y_young_test = train_test_split(x_young, y_young, test_size = .2, random_state = 2)\n",
    "    x_old_train, x_old_test, y_old_train, y_old_test = train_test_split(x_old, y_old, test_size = .2, random_state = 2)\n",
    "    x_train, x_test, y_train, y_test = train_test_split(x, y, test_size = .2, random_state = 2)\n",
    "    logReg = LogisticRegression(solver= 'liblinear').fit(x_train, y_train[\"ageclass\"])\n",
    "    boost = GradientBoostingClassifier(n_estimators=100, learning_rate=1.0, max_depth=1, random_state=2).fit(x_train, y_train[\"ageclass\"])\n",
    "    svm = SVC(C=1000, gamma = .01, kernel='rbf', random_state=2).fit(x_train, y_train[\"ageclass\"])\n",
    "    forest = RandomForestClassifier(max_depth=2, random_state=2).fit(x_train, y_train[\"ageclass\"])\n",
    "    reg = Ridge(alpha=.1).fit(x_young_train, y_young_train[\"age\"])\n",
    "    #reg = make_pipeline(StandardScaler(), LinearSVR(random_state = 2, epsilon=2.97, tol=1e-6, C=20)).fit(x_young_train, y_young_train[\"age\"])\n",
    "    #regTwo = Ridge(alpha=.05).fit(x_old_train, y_old_train[\"age\"])\n",
    "    regTwo = make_pipeline(StandardScaler(), LinearSVR(random_state = 2, epsilon=2.97, tol=1e-6, C=14.1)).fit(x_old_train, y_old_train[\"age\"])\n",
    "    mae = {}\n",
    "    errors = []\n",
    "\n",
    "    for model in [svm]:\n",
    "        score = 0\n",
    "        total = 0\n",
    "        error = 0\n",
    "        for index, row in x_test.iterrows():\n",
    "            row = row.values.reshape(1,-1)\n",
    "            if model.predict(row) == 0:\n",
    "                age = reg.predict(row)\n",
    "                if np.round(age) == y_test[\"age\"][index]:\n",
    "                    score += 1\n",
    "                error += abs(y_test[\"age\"][index] - age)\n",
    "                total += 1\n",
    "            else:\n",
    "                age = regTwo.predict(row)\n",
    "                if np.round(age) == y_test[\"age\"][index]:\n",
    "                    score += 1\n",
    "                error += abs(y_test[\"age\"][index] - age)\n",
    "                total += 1\n",
    "\n",
    "    print(error/total)\n",
    "    lis.append(float(error/total))\n",
    "    \n",
    "lis.append(np.mean(lis))\n",
    "print(np.mean(lis))"
   ],
   "outputs": [
    {
     "output_type": "stream",
     "name": "stdout",
     "text": [
      "[2.99502488]\n",
      "2.9950248756218905\n"
     ]
    },
    {
     "output_type": "stream",
     "name": "stderr",
     "text": [
      "/Users/abc/opt/anaconda3/lib/python3.8/site-packages/sklearn/svm/_base.py:985: ConvergenceWarning: Liblinear failed to converge, increase the number of iterations.\n",
      "  warnings.warn(\"Liblinear failed to converge, increase \"\n"
     ]
    }
   ],
   "metadata": {}
  },
  {
   "cell_type": "code",
   "execution_count": null,
   "source": [],
   "outputs": [],
   "metadata": {}
  },
  {
   "cell_type": "code",
   "execution_count": 137,
   "source": [
    "from sklearn.pipeline import make_pipeline\n",
    "from sklearn.preprocessing import StandardScaler\n",
    "from sklearn.svm import LinearSVR\n",
    "from sklearn.datasets import make_regression\n",
    "\n",
    "regr = make_pipeline(StandardScaler(), LinearSVR(random_state = 2, epsilon=2, tol=1e-5, C=14.1)).fit(x_old_train, y_old_train[\"age\"])\n",
    "for model in [regr]:\n",
    "    total = 0\n",
    "    error = 0\n",
    "    for index, row in x_old_test.iterrows():\n",
    "        row = row.values.reshape(1,-1)\n",
    "        total += 1\n",
    "        error += abs(y_old_test[\"age\"][index] - np.round(model.predict(row)))\n",
    "    print(error/total)    \n"
   ],
   "outputs": [
    {
     "output_type": "stream",
     "name": "stderr",
     "text": [
      "/Users/abc/opt/anaconda3/lib/python3.8/site-packages/sklearn/svm/_base.py:985: ConvergenceWarning: Liblinear failed to converge, increase the number of iterations.\n",
      "  warnings.warn(\"Liblinear failed to converge, increase \"\n"
     ]
    },
    {
     "output_type": "stream",
     "name": "stdout",
     "text": [
      "[6.84615385]\n"
     ]
    }
   ],
   "metadata": {}
  },
  {
   "cell_type": "code",
   "execution_count": 71,
   "source": [
    "from sklearn.linear_model import LinearRegression\n",
    "from sklearn.neighbors import KNeighborsRegressor\n",
    "from sklearn.tree import DecisionTreeRegressor\n",
    "from sklearn.svm import SVR\n",
    "from sklearn.ensemble import BaggingRegressor\n",
    "from sklearn.ensemble import RandomForestRegressor\n",
    "from sklearn.ensemble import GradientBoostingRegressor\n",
    "from sklearn.linear_model import Ridge\n",
    "from sklearn.svm import SVR\n",
    "from sklearn.pipeline import make_pipeline\n",
    "from sklearn.preprocessing import StandardScaler\n",
    "from sklearn.svm import LinearSVR\n",
    "from sklearn.datasets import make_regression\n",
    "\n",
    "linReg = LinearRegression().fit(x_young_train, y_young_train[\"age\"])\n",
    "KNN = KNeighborsRegressor(n_neighbors=2).fit(x_young_train, y_young_train[\"age\"])\n",
    "tree = DecisionTreeRegressor(max_depth=5).fit(x_young_train, y_young_train[\"age\"])\n",
    "bag = BaggingRegressor(base_estimator=SVR(), n_estimators=10, random_state=2).fit(x_young_train, y_young_train[\"age\"])\n",
    "randFor = RandomForestRegressor(max_depth=2, random_state=2).fit(x_young_train, y_young_train[\"age\"])\n",
    "boost = GradientBoostingRegressor(random_state=2).fit(x_young_train, y_young_train[\"age\"])\n",
    "ridge = Ridge(alpha=.5).fit(x_young_train, y_young_train[\"age\"])\n",
    "svm = make_pipeline(StandardScaler(), SVR(C=2.0, epsilon=0.2)).fit(x_young_train, y_young_train[\"age\"])\n",
    "\n",
    "errors = []\n",
    "maeOne = {}\n",
    "total = 0\n",
    "error = 0\n",
    "    \n",
    "for model in [linReg, KNN, tree, bag, randFor, boost, ridge, svm]:\n",
    "    total = 0\n",
    "    error = 0\n",
    "    for index, row in x_young_test.iterrows():\n",
    "        row = row.values.reshape(1,-1)\n",
    "        total += 1\n",
    "        error += abs(y_young_test[\"age\"][index] - np.round(model.predict(row)))\n",
    "    errors.append(error/total)\n",
    "    \n",
    "modelNames = [\"Linear Regression\", \"KNN\", \"Decision Tree\", \"Bagging\", \"Random Forrest\", \"Boosting\", \"Ridge\", \"SVM\"]\n",
    "for index in range(8):\n",
    "    maeOne[modelNames[index]] = float(errors[index])\n",
    "    \n",
    "import seaborn as sns\n",
    "plt.subplots(figsize = (12,12))\n",
    "ax = sns.barplot(x = modelNames, y = list(maeOne.values()), palette=\"Blues_d\") \n",
    "plt.xlabel('Algorithm for Regression 1')\n",
    "plt.ylabel('Mean Absolute Error')\n",
    "for index, value in enumerate(list(maeOne.values())):\n",
    "    plt.text(index-.15, value+.02,\n",
    "             str(round(value, ndigits = 4)))\n",
    "    \n",
    "plt.savefig('SVSM Regressor 1 Hybrid')"
   ],
   "outputs": [
    {
     "output_type": "display_data",
     "data": {
      "text/plain": [
       "<Figure size 864x864 with 1 Axes>"
      ],
      "image/png": "[encoded data removed]"
     },
     "metadata": {
      "needs_background": "light"
     }
    }
   ],
   "metadata": {}
  },
  {
   "cell_type": "code",
   "execution_count": null,
   "source": [
    "from sklearn.model_selection import GridSearchCV\n",
    "param_grid = {'alpha': [0.001, 0.01, 0.1, 1, 10, 100, 1000]} \n",
    "grid = GridSearchCV(Ridge(random_state=2), param_grid, refit = True, verbose = 3)\n",
    "grid.fit(x_young_train, y_young_train[\"age\"])\n",
    "\n",
    "print(grid.best_params_)\n",
    "print(grid.best_estimator_)"
   ],
   "outputs": [],
   "metadata": {}
  },
  {
   "cell_type": "code",
   "execution_count": null,
   "source": [
    "boost = GradientBoostingRegressor(random_state=2).fit(x_young_train, y_young_train[\"age\"])"
   ],
   "outputs": [],
   "metadata": {}
  },
  {
   "cell_type": "code",
   "execution_count": null,
   "source": [
    "bag = BaggingRegressor(base_estimator=SVR(), n_estimators=10, random_state=2).fit(x_young_train, y_young_train[\"age\"])"
   ],
   "outputs": [],
   "metadata": {}
  },
  {
   "cell_type": "code",
   "execution_count": null,
   "source": [
    "linReg = LinearRegression().fit(x_young_train, y_young_train[\"age\"])"
   ],
   "outputs": [],
   "metadata": {}
  },
  {
   "cell_type": "code",
   "execution_count": 108,
   "source": [
    "from sklearn.linear_model import LinearRegression\n",
    "from sklearn.neighbors import KNeighborsRegressor\n",
    "from sklearn.tree import DecisionTreeRegressor\n",
    "from sklearn.svm import SVR\n",
    "from sklearn.ensemble import BaggingRegressor\n",
    "from sklearn.ensemble import RandomForestRegressor\n",
    "from sklearn.ensemble import GradientBoostingRegressor\n",
    "from sklearn.linear_model import Ridge\n",
    "from sklearn.svm import SVR\n",
    "from sklearn.pipeline import make_pipeline\n",
    "from sklearn.preprocessing import StandardScaler\n",
    "\n",
    "linReg = LinearRegression().fit(x_old_train, y_old_train[\"age\"])\n",
    "KNN = KNeighborsRegressor(n_neighbors=2).fit(x_old_train, y_old_train[\"age\"])\n",
    "tree = DecisionTreeRegressor(max_depth=5).fit(x_old_train, y_old_train[\"age\"])\n",
    "bag = BaggingRegressor(base_estimator=SVR(), n_estimators=10, random_state=2).fit(x_old_train, y_old_train[\"age\"])\n",
    "randFor = RandomForestRegressor(max_depth=2, random_state=2).fit(x_old_train, y_old_train[\"age\"])\n",
    "boost = GradientBoostingRegressor(random_state=2).fit(x_old_train, y_old_train[\"age\"])\n",
    "ridge = Ridge(alpha=1.0).fit(x_old_train, y_old_train[\"age\"])\n",
    "svm = make_pipeline(StandardScaler(), SVR(C=1.0, epsilon=0.2)).fit(x_old_train, y_old_train[\"age\"])\n",
    "\n",
    "errors = []\n",
    "maeOne = {}\n",
    "total = 0\n",
    "error = 0\n",
    "    \n",
    "for model in [linReg, KNN, tree, bag, randFor, boost, ridge, svm]:\n",
    "    total = 0\n",
    "    error = 0\n",
    "    for index, row in x_old_test.iterrows():\n",
    "        row = row.values.reshape(1,-1)\n",
    "        total += 1\n",
    "        error += abs(y_old_test[\"age\"][index] - np.round(model.predict(row)))\n",
    "    errors.append(error/total)\n",
    "    \n",
    "modelNames = [\"Linear Regression\", \"KNN\", \"Decision Tree\", \"Bagging\", \"Random Forrest\", \"Boosting\", \"Ridge\", \"SVM\"]\n",
    "for index in range(8):\n",
    "    maeOne[modelNames[index]] = float(errors[index])\n",
    "    \n",
    "import seaborn as sns\n",
    "plt.subplots(figsize = (12,12))\n",
    "ax = sns.barplot(x = [\"Linear Regression\", \"KNN\", \"Decision Tree\", \"Bagging\", \"Random Forrest\", \"Boosting\", \"Ridge\", \"SVM\"], y = list(maeOne.values()), palette=\"Blues_d\") \n",
    "plt.xlabel('Algorithm for Regression 2')\n",
    "plt.ylabel('Mean Absolute Error')\n",
    "for index, value in enumerate(list(maeOne.values())):\n",
    "    plt.text(index-.2, value+.06,\n",
    "             str(round(value, ndigits = 4)))\n",
    "    \n",
    "plt.savefig('SVSM Regressor 2 Hybrid')"
   ],
   "outputs": [
    {
     "output_type": "display_data",
     "data": {
      "text/plain": [
       "<Figure size 864x864 with 1 Axes>"
      ],
      "image/png": "[encoded data removed]"
     },
     "metadata": {
      "needs_background": "light"
     }
    }
   ],
   "metadata": {}
  },
  {
   "cell_type": "code",
   "execution_count": 10,
   "source": [
    "import seaborn as sns\n",
    "print(lis)\n",
    "plt.subplots(figsize = (12,14))\n",
    "ax = sns.barplot(x = [\"Trial 1\", \"Trial 2\", \"Trial 3\", \"Trial 4\", \"Trial 5\",\"Trial 6\", \"Trial 7\", \"Trial 8\", \"Trial 9\", \"Trial 10\", \"Accuracy\"], y = list(lis), palette=\"Blues_d\") \n",
    "plt.xlabel('Trials for Hierarchical Model')\n",
    "plt.ylabel('Mean Absolute Error')\n",
    "plt.xticks(rotation=45)\n",
    "\n",
    "for index, value in enumerate(list(lis)):\n",
    "    plt.text(index-.2, value+.04,\n",
    "             str(round(value, ndigits = 4)))"
   ],
   "outputs": [
    {
     "output_type": "stream",
     "name": "stdout",
     "text": [
      "[2.736318407960199, 3.5621890547263684, 3.7860696517412937, 3.512437810945274, 3.63681592039801, 3.36318407960199, 3.383084577114428, 3.9502487562189055, 3.6218905472636815, 3.800995024875622, 3.5353233830845765]\n"
     ]
    },
    {
     "output_type": "display_data",
     "data": {
      "text/plain": [
       "<Figure size 864x1008 with 1 Axes>"
      ],
      "image/png": "[encoded data removed]"
     },
     "metadata": {
      "needs_background": "light"
     }
    }
   ],
   "metadata": {}
  },
  {
   "cell_type": "code",
   "execution_count": null,
   "source": [],
   "outputs": [],
   "metadata": {}
  }
 ],
 "metadata": {
  "kernelspec": {
   "display_name": "Python 3",
   "language": "python",
   "name": "python3"
  },
  "language_info": {
   "codemirror_mode": {
    "name": "ipython",
    "version": 3
   },
   "file_extension": ".py",
   "mimetype": "text/x-python",
   "name": "python",
   "nbconvert_exporter": "python",
   "pygments_lexer": "ipython3",
   "version": "3.8.8"
  }
 },
 "nbformat": 4,
 "nbformat_minor": 5
}